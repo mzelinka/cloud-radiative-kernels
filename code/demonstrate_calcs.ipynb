{
 "cells": [
  {
   "cell_type": "markdown",
   "id": "32e5b667-a05c-414f-8f62-ae4cf97f17d4",
   "metadata": {},
   "source": [
    "## Description\n",
    "This notebook demonstrates how to compute the cloud feedback using cloud radiative kernels in an illustrative climate model (GFDL-CM4) using the difference between amip-p4K vs amip simulations. Additionally, this script demonstrates how to compute the Zelinka et al (2013) decomposition of cloud feedback into components due to changes in cloud amount, altitude, optical depth, and a residual, and does this separately for low and non-low clouds following Zelinka et al (2016). Finally, it includes calculations to account for changes in obscuration of low clouds by upper-level clouds as discussed in Zelinka et al (2022).\n",
    "\n",
    "## Input\n",
    "- tas,rsdscs,rsuscs,wap,clisccp\n",
    "- cloud radiative kernels\n",
    "\n",
    "## History\n",
    "This code is updated from the v1.0 release (Sep 17, 2021):\n",
    "  - all calls to CDAT functions replaced with xarray and xcdat\n",
    "  - code refactored and cleaned up in a variety of places \n",
    "  - Li-Wei Chao (LLNL) assisted with the conversion from cdat to xarray/xcdat\n",
    "\n",
    "## References\n",
    "- Zelinka, M. D., S. A. Klein, and D. L. Hartmann, 2012: [Computing and Partitioning Cloud Feedbacks Using \n",
    "    Cloud Property Histograms. Part I: Cloud Radiative Kernels](http://journals.ametsoc.org/doi/abs/10.1175/JCLI-D-11-00248.1). J. Climate, 25, 3715-3735. \n",
    "    doi:10.1175/JCLI-D-11-00248.1.\n",
    "- Zelinka, M. D., S. A. Klein, and D. L. Hartmann, 2012: [Computing and Partitioning Cloud Feedbacks Using \n",
    "    Cloud Property Histograms. Part II: Attribution to Changes in Cloud Amount, Altitude, and Optical Depth](http://journals.ametsoc.org/doi/abs/10.1175/JCLI-D-11-00249.1). \n",
    "    J. Climate, 25, 3736-3754. doi:10.1175/JCLI-D-11-00249.1.\n",
    "- Zelinka, M.D., S.A. Klein, K.E. Taylor, T. Andrews, M.J. Webb, J.M. Gregory, and P.M. Forster, 2013: \n",
    "    [Contributions of Different Cloud Types to Feedbacks and Rapid Adjustments in CMIP5](http://journals.ametsoc.org/doi/abs/10.1175/JCLI-D-12-00555.1). \n",
    "    J. Climate, 26, 5007-5027. doi:10.1175/JCLI-D-12-00555.1.\n",
    "- Zelinka, M. D., C. Zhou, and S. A. Klein, 2016: [Insights from a Refined Decomposition of Cloud Feedbacks](http://onlinelibrary.wiley.com/doi/10.1002/2016GL069917/full), \n",
    "    Geophys. Res. Lett., 43, 9259-9269, doi:10.1002/2016GL069917.\n",
    "- Zhou, C., M. D. Zelinka, A. E. Dessler, P. Yang, 2013: [An analysis of the short-term cloud feedback using MODIS data](http://journals.ametsoc.org/doi/abs/10.1175/JCLI-D-12-00547.1), J. Climate, 26, 4803–4815. doi:10.1175/JCLI-D-12-00547.1.\n",
    "- Zelinka et al. (2022): [Evaluating climate models’ cloud feedbacks against expert judgement](https://agupubs.onlinelibrary.wiley.com/doi/full/10.1029/2021JD035198), _J. Geophys. Res._, 127, e2021JD035198, doi:10.1029/2021JD035198.\n",
    "    \n",
    "## Contact\n",
    "- Mark Zelinka (zelinka1@llnl.gov)"
   ]
  },
  {
   "cell_type": "markdown",
   "id": "36673456-b98c-4cf8-bbc0-e96d211dcddd",
   "metadata": {},
   "source": [
    "## User Input"
   ]
  },
  {
   "cell_type": "code",
   "execution_count": 1,
   "id": "2756ff07-b500-441e-a7fb-43410e848620",
   "metadata": {
    "tags": []
   },
   "outputs": [],
   "source": [
    "model = 'GFDL-CM4'\n",
    "variant = 'r1i1p1f1'"
   ]
  },
  {
   "cell_type": "markdown",
   "id": "a8cfe929-81fc-4990-8fde-3ca483c8905d",
   "metadata": {},
   "source": [
    "## Import useful functions"
   ]
  },
  {
   "cell_type": "code",
   "execution_count": 2,
   "id": "c07b94fa-ac67-464e-a482-dbdd2e1a53f1",
   "metadata": {
    "tags": []
   },
   "outputs": [],
   "source": [
    "import cal_CloudRadKernel_xr as CRK\n",
    "import matplotlib.pyplot as plt\n",
    "import cartopy.crs as ccrs\n",
    "import xsearch as xs\n",
    "import xarray as xr\n",
    "import numpy as np\n",
    "import warnings\n",
    "import copy\n",
    "warnings.simplefilter(action='ignore', category=FutureWarning)\n",
    "warnings.simplefilter(action='ignore', category=RuntimeWarning)"
   ]
  },
  {
   "cell_type": "markdown",
   "id": "a89dc240-e5ac-45bf-bf1a-da601f8b95ae",
   "metadata": {
    "tags": []
   },
   "source": [
    "## Get filepaths based on user input"
   ]
  },
  {
   "cell_type": "code",
   "execution_count": 3,
   "id": "f414efff-5252-4917-845d-ca6b2829345f",
   "metadata": {
    "tags": []
   },
   "outputs": [],
   "source": [
    "variables = ['tas','rsdscs','rsuscs','clisccp'] # necessary for cloud feedback calcs\n",
    "exps = ['amip','amip-p4K']\n",
    "era = 'CMIP6' # user choice\n",
    "filepath={}\n",
    "for exp in exps:\n",
    "    filepath[exp]={}   \n",
    "    for var in variables:\n",
    "        filepath[exp][var]={}\n",
    "        if var=='clisccp':\n",
    "            table='CFmon'\n",
    "        else:\n",
    "            table='Amon'\n",
    "        pathDict = xs.findPaths(exp, var, 'mon', mip_era=era, cmipTable=table, realm='atmos', model=model, member=variant)\n",
    "        dpath=list(pathDict.keys())\n",
    "        if len(dpath)==1:\n",
    "            filepath[exp][var] = dpath[0]\n",
    "        else:\n",
    "            stop # need to investigate why more than one path survived..."
   ]
  },
  {
   "cell_type": "markdown",
   "id": "931a35bc-59c3-460b-8d3c-6de896b30a87",
   "metadata": {},
   "source": [
    "## Do all the cloud feedback calculations"
   ]
  },
  {
   "cell_type": "code",
   "execution_count": 4,
   "id": "2bb239b5-329e-4653-b833-b9e7f797615c",
   "metadata": {
    "tags": []
   },
   "outputs": [
    {
     "name": "stdout",
     "output_type": "stream",
     "text": [
      "get data\n",
      "amip\n",
      "  tas\n",
      "  rsdscs\n",
      "  rsuscs\n",
      "  clisccp\n",
      "amip-p4K\n",
      "  tas\n",
      "  rsdscs\n",
      "  rsuscs\n",
      "  clisccp\n",
      "get LW and SW kernel\n",
      "Compute feedbacks\n",
      "    for section ALL\n",
      "    for section HI680\n",
      "    for section LO680\n",
      "Get Obscuration Terms\n"
     ]
    },
    {
     "name": "stderr",
     "output_type": "stream",
     "text": [
      "2024-09-04 12:41:00,913 [WARNING]: bounds.py(create_bounds:939) >> The 'lat' coordinate variable is missing a 'units' attribute. Assuming 'units' is 'degrees_north'.\n",
      "2024-09-04 12:41:00,913 [WARNING]: bounds.py(create_bounds:939) >> The 'lat' coordinate variable is missing a 'units' attribute. Assuming 'units' is 'degrees_north'.\n"
     ]
    },
    {
     "ename": "ValueError",
     "evalue": "too many values to unpack (expected 2)",
     "output_type": "error",
     "traceback": [
      "\u001b[0;31m---------------------------------------------------------------------------\u001b[0m",
      "\u001b[0;31mValueError\u001b[0m                                Traceback (most recent call last)",
      "Cell \u001b[0;32mIn[4], line 1\u001b[0m\n\u001b[0;32m----> 1\u001b[0m (output,obsc_output) \u001b[38;5;241m=\u001b[39m CRK\u001b[38;5;241m.\u001b[39mCloudRadKernel(filepath) \n",
      "\u001b[0;31mValueError\u001b[0m: too many values to unpack (expected 2)"
     ]
    }
   ],
   "source": [
    "(output,obsc_output) = CRK.CloudRadKernel(filepath) "
   ]
  },
  {
   "cell_type": "markdown",
   "id": "48605f09-8c48-4d3b-b560-525063c3b681",
   "metadata": {
    "tags": []
   },
   "source": [
    "## Standard cloud feedbacks (as diagnosed in Zelinka et al 2012b, 2013)"
   ]
  },
  {
   "cell_type": "code",
   "execution_count": null,
   "id": "c61d7d9e-51bc-447c-b675-b7a685f0538d",
   "metadata": {},
   "outputs": [],
   "source": [
    "sec = 'ALL' # Use the full histogram\n",
    "DS = xr.Dataset(output[sec])\n",
    "avgmap = DS.mean('time')\n",
    "avgmap=avgmap.bounds.add_missing_bounds()\n",
    "fig = plt.figure(figsize = (14,11))\n",
    "plt.suptitle(model+'.'+variant+' Cloud Feedbacks',fontsize=16,x=0,ha='left')\n",
    "axes = fig.subplots(nrows=5, ncols=3, subplot_kw={'projection': ccrs.Robinson(central_longitude=180)})\n",
    "fields = list(DS.data_vars)\n",
    "cnt=-1\n",
    "for row in range(5):\n",
    "    for col in range(3):\n",
    "        cnt+=1\n",
    "        var = fields[cnt]\n",
    "        avg = avgmap.spatial.average(var, axis=[\"X\", \"Y\"])[var].values\n",
    "        pl = avgmap[var].plot(ax = axes[row,col], \n",
    "                  transform=ccrs.PlateCarree(),\n",
    "                  vmin = -5, vmax =  5, \n",
    "                  cmap = 'RdBu_r', \n",
    "                  extend='both',                              \n",
    "                  add_colorbar=False)\n",
    "        axes[row,col].set_title('{} ({:.3f})'.format(var,avg))\n",
    "        axes[row,col].coastlines()\n",
    "plt.tight_layout()\n",
    "fig.colorbar(pl, ax=axes.ravel().tolist(), pad = 0.02, shrink = 0.5, aspect = 15, label=\"W/m$^2/K$\")"
   ]
  },
  {
   "cell_type": "markdown",
   "id": "87ad507c-3bae-4a7c-9948-a7852b4cbf01",
   "metadata": {
    "tags": []
   },
   "source": [
    "## Separately consider the feedbacks from low clouds (CTP>680hPa) and non-low clouds (CTP<680hPa), following Zelinka et al (2016)"
   ]
  },
  {
   "cell_type": "code",
   "execution_count": null,
   "id": "7eff3186-5782-4bc8-84bc-b8702c2a129e",
   "metadata": {
    "tags": []
   },
   "outputs": [],
   "source": [
    "for sec in ['LO680','HI680']: # low and non-low separately\n",
    "    DS = xr.Dataset(output[sec])\n",
    "    avgmap = DS.mean('time')\n",
    "    avgmap=avgmap.bounds.add_missing_bounds()\n",
    "    fig = plt.figure(figsize = (14,11))\n",
    "    plt.suptitle(model+'.'+variant+' Cloud Feedbacks ['+sec+']',fontsize=16,x=0,ha='left')\n",
    "    axes = fig.subplots(nrows=5, ncols=3, subplot_kw={'projection': ccrs.Robinson(central_longitude=180)})\n",
    "    fields = list(DS.data_vars)\n",
    "    cnt=-1\n",
    "    for row in range(5):\n",
    "        for col in range(3):\n",
    "            cnt+=1\n",
    "            var = fields[cnt]\n",
    "            avg = avgmap.spatial.average(var, axis=[\"X\", \"Y\"])[var].values\n",
    "            pl = avgmap[var].plot(ax = axes[row,col], \n",
    "                      transform=ccrs.PlateCarree(),\n",
    "                      vmin = -5, vmax =  5, \n",
    "                      cmap = 'RdBu_r', \n",
    "                      extend='both',                              \n",
    "                      add_colorbar=False)\n",
    "            axes[row,col].set_title('{} ({:.3f})'.format(var,avg))\n",
    "            axes[row,col].coastlines()\n",
    "    plt.tight_layout()\n",
    "    fig.colorbar(pl, ax=axes.ravel().tolist(), pad = 0.02, shrink = 0.5, aspect = 15, label=\"W/m$^2/K$\")"
   ]
  },
  {
   "cell_type": "markdown",
   "id": "9e77c44c-5586-4749-8f6a-a429293bb28c",
   "metadata": {},
   "source": [
    "## Accounting for Obscuration Effects\n",
    "\n",
    "A portion of the feedback attributed to low clouds is in fact due to changes in obscuration by upper-level clouds. One can express the standard low-level cloud feedbacks shown above as a sum of three terms:\n",
    "\n",
    "$$\\mathrm{low = low_{unobsc} + \\Delta obsc + cov}$$\n",
    "\n",
    "Only the $\\mathrm{low_{unobsc}}$ component represents a \"true\" low-cloud feedback occurring in regions that are not obscured by upper-level clouds and are unaffected by changes in obscuration. We further break this down into amount, altitude, optical depth, and residual components. \n",
    "\n",
    "$\\mathrm{\\Delta obsc}$ is the obscuration-induced component of low-cloud feedback arising entirely from changes in upper-level cloud fraction that reveal or hide low-level clouds. It is therefore by definition solely an amount component, so we absorb it into the high-cloud amount feedback. An example scenario where this would be important is when changes in high cloud amount occur over low-level clouds.  Rather than revealing or hiding a dark ocean (implying a potentially large high cloud amount feedback), such a response would reveal or hide bright underlying clouds (implying a potentially much weaker high cloud amount feedback).\n",
    "\n",
    "The covariance term, $\\mathrm{cov}$, is typically very small. \n",
    "\n",
    "To summarize, the total cloud feedback can be expressed as:\n",
    "\n",
    "$$\n",
    "\\mathrm{total = \\sum_i high_i + \\sum_i low_{unobsc,i} + cov},\n",
    "$$\n",
    "\n",
    "where $i \\in \\{\\mathrm{amount}, \\mathrm{altitude}, \\mathrm{optical\\: depth}, \\mathrm{residual}\\}$ \n",
    "components, and the high cloud amount component includes the $\\mathrm{\\Delta obsc}$ component.\n",
    "\n",
    "For more details, see [Scott et al (2020)](https://journals.ametsoc.org/view/journals/clim/33/18/jcliD191028.xml), [Myers et al (2021)](https://www.nature.com/articles/s41558-021-01039-0), and [Zelinka et al (2022)](https://agupubs.onlinelibrary.wiley.com/doi/full/10.1029/2021JD035198)."
   ]
  },
  {
   "cell_type": "markdown",
   "id": "1901cd85-bfed-42ac-bd3f-a3c8f954e2f3",
   "metadata": {},
   "source": [
    "## Recommended breakdown:"
   ]
  },
  {
   "cell_type": "markdown",
   "id": "47705c6f-322c-4579-b42b-a9a45eee2ba4",
   "metadata": {},
   "source": [
    "## High cloud feedbacks: \n",
    "All are taken from the standard decomposition, but the $\\mathrm{\\Delta obsc}$ term is added to the amount component. So the amount and total high cloud feedback are updated:"
   ]
  },
  {
   "cell_type": "code",
   "execution_count": null,
   "id": "0a72ae96-6030-4c42-a649-55fb7c30f0df",
   "metadata": {
    "tags": []
   },
   "outputs": [],
   "source": [
    "trueHI={}\n",
    "bands=['LW','SW','NET']\n",
    "fields = ['tot','amt','alt','tau','err']\n",
    "for field in fields:\n",
    "    for band in bands:\n",
    "        trueHI[band+'cld_'+field] = copy.deepcopy(output['HI680'][band+'cld_'+field])\n",
    "\n",
    "LOobsc = obsc_output['LO680']\n",
    "# update the high cloud amount feedback to include the change in obscuration term:\n",
    "trueHI['LWcld_amt'] += LOobsc['LWdobsc_fbk']\n",
    "trueHI['SWcld_amt'] += LOobsc['SWdobsc_fbk']\n",
    "trueHI['NETcld_amt'] = trueHI['LWcld_amt'] + trueHI['SWcld_amt']\n",
    "# update the total high cloud feedback:\n",
    "trueHI['LWcld_tot'] = trueHI['LWcld_amt'] + trueHI['LWcld_alt'] + trueHI['LWcld_tau'] + trueHI['LWcld_err']\n",
    "trueHI['SWcld_tot'] = trueHI['SWcld_amt'] + trueHI['SWcld_alt'] + trueHI['SWcld_tau'] + trueHI['SWcld_err']\n",
    "trueHI['NETcld_tot'] = trueHI['LWcld_tot'] + trueHI['SWcld_tot']\n",
    "\n",
    "DS = xr.Dataset(trueHI)\n",
    "avgmap = DS.mean('time')\n",
    "avgmap=avgmap.bounds.add_missing_bounds()\n",
    "# DS.data_vars\n",
    "\n",
    "fig = plt.figure(figsize = (14,11))\n",
    "plt.suptitle(model+'.'+variant+' Obscuration-Adjusted High Cloud Feedbacks',fontsize=16,x=0,ha='left')\n",
    "axes = fig.subplots(nrows=5, ncols=3, subplot_kw={'projection': ccrs.Robinson(central_longitude=180)})\n",
    "fields = list(DS.data_vars)\n",
    "cnt=-1\n",
    "for row in range(5):\n",
    "    for col in range(3):\n",
    "        cnt+=1\n",
    "        var = fields[cnt]\n",
    "        avg = avgmap.spatial.average(var, axis=[\"X\", \"Y\"])[var].values\n",
    "        pl = avgmap[var].plot(ax = axes[row,col], \n",
    "                  transform=ccrs.PlateCarree(),\n",
    "                  vmin = -5, vmax =  5, \n",
    "                  cmap = 'RdBu_r', \n",
    "                  extend='both',                              \n",
    "                  add_colorbar=False)\n",
    "        axes[row,col].set_title('{} ({:.3f})'.format(var,avg))\n",
    "        axes[row,col].coastlines()\n",
    "plt.tight_layout()\n",
    "fig.colorbar(pl, ax=axes.ravel().tolist(), pad = 0.02, shrink = 0.5, aspect = 15, label=\"W/m$^2/K$\")"
   ]
  },
  {
   "cell_type": "markdown",
   "id": "486fe6ce-e075-42b8-bfdf-35c9c28ffca9",
   "metadata": {},
   "source": [
    "## Low cloud feedbacks:\n",
    "Consider only the unobscured low cloud components, and include the obscuration covariance term as part of the kernel residual term:"
   ]
  },
  {
   "cell_type": "code",
   "execution_count": null,
   "id": "936654cc-10a4-471e-b594-3b80c17ab0b7",
   "metadata": {
    "tags": []
   },
   "outputs": [],
   "source": [
    "LOobsc = obsc_output['LO680']\n",
    "# SWcld_tot is equivalent to SWdunobsc_fbk; ditto for LW compoent\n",
    "# SWdobsc_fbk is already incorporated into high cloud amount feedback; ditto for LW component\n",
    "\n",
    "trueLO={}\n",
    "bands=['LW','SW','NET']\n",
    "fields = ['tot','amt','alt','tau','err']\n",
    "for field in fields:\n",
    "    for band in bands:\n",
    "        trueLO[band+'cld_'+field] = copy.deepcopy(LOobsc[band+'cld_'+field])\n",
    "# include the obscuration covariance term with the kernel residual:\n",
    "trueLO['LWcld_err'] += LOobsc['LWdobsc_cov_fbk']\n",
    "trueLO['SWcld_err'] += LOobsc['SWdobsc_cov_fbk']\n",
    "trueLO['NETcld_err'] = trueLO['LWcld_err']+trueLO['SWcld_err']\n",
    "# update the total low cloud feedback:\n",
    "trueLO['LWcld_tot'] = trueLO['LWcld_amt'] + trueLO['LWcld_alt'] + trueLO['LWcld_tau'] + trueLO['LWcld_err']\n",
    "trueLO['SWcld_tot'] = trueLO['SWcld_amt'] + trueLO['SWcld_alt'] + trueLO['SWcld_tau'] + trueLO['SWcld_err']\n",
    "trueLO['NETcld_tot'] = trueLO['LWcld_tot'] + trueLO['SWcld_tot']\n",
    "\n",
    "DS = xr.Dataset(trueLO)\n",
    "avgmap = DS.mean('time')\n",
    "avgmap=avgmap.bounds.add_missing_bounds()\n",
    "# DS.data_vars\n",
    "\n",
    "fig = plt.figure(figsize = (14,11))\n",
    "plt.suptitle(model+'.'+variant+' Obscuration-Adjusted Low Cloud Feedbacks',fontsize=16,x=0,ha='left')\n",
    "axes = fig.subplots(nrows=5, ncols=3, subplot_kw={'projection': ccrs.Robinson(central_longitude=180)})\n",
    "fields = list(DS.data_vars)\n",
    "cnt=-1\n",
    "for row in range(5):\n",
    "    for col in range(3):\n",
    "        cnt+=1\n",
    "        var = fields[cnt]\n",
    "        avg = avgmap.spatial.average(var, axis=[\"X\", \"Y\"])[var].values\n",
    "        pl = avgmap[var].plot(ax = axes[row,col], \n",
    "                  transform=ccrs.PlateCarree(),\n",
    "                  vmin = -5, vmax =  5, \n",
    "                  cmap = 'RdBu_r', \n",
    "                  extend='both',                              \n",
    "                  add_colorbar=False)\n",
    "        axes[row,col].set_title('{} ({:.3f})'.format(var,avg))\n",
    "        axes[row,col].coastlines()\n",
    "plt.tight_layout()\n",
    "fig.colorbar(pl, ax=axes.ravel().tolist(), pad = 0.02, shrink = 0.5, aspect = 15, label=\"W/m$^2/K$\")"
   ]
  },
  {
   "cell_type": "markdown",
   "id": "ce5af33b-0175-4e11-b669-d4e07fc854f1",
   "metadata": {},
   "source": [
    "## Show a few more comparisons and sanity checks"
   ]
  },
  {
   "cell_type": "code",
   "execution_count": null,
   "id": "361e9445-2f2c-4e8e-85e0-eeec4b4d28e5",
   "metadata": {
    "tags": []
   },
   "outputs": [],
   "source": [
    "ALL = xr.Dataset(output['ALL'])\n",
    "LO = xr.Dataset(output['LO680'])\n",
    "HI = xr.Dataset(output['HI680'])\n",
    "trueLO = xr.Dataset(trueLO)\n",
    "trueHI = xr.Dataset(trueHI)"
   ]
  },
  {
   "cell_type": "code",
   "execution_count": null,
   "id": "b42328ba-42fd-4e3d-9885-42fcb3eb2831",
   "metadata": {
    "tags": []
   },
   "outputs": [],
   "source": [
    "# Verify that the unobscured low cloud feedback = original low cloud feedback + change in obscuration:\n",
    "plt.figure(figsize=(18,9))\n",
    "plt.subplot(2,3,1)\n",
    "A = LO['NETcld_tot'].mean('time')\n",
    "A.plot(vmin=-3.5,vmax=3.5,cmap='RdBu_r')\n",
    "plt.title('a) Original Low Cloud Feedback')\n",
    "plt.subplot(2,3,2)\n",
    "B = (LOobsc['LWdobsc_fbk']+LOobsc['SWdobsc_fbk']).mean('time')\n",
    "B.plot(vmin=-3.5,vmax=3.5,cmap='RdBu_r')\n",
    "plt.title('b) Change in Obscuration')\n",
    "plt.subplot(2,3,3)\n",
    "C = trueLO['NETcld_tot'].mean('time')\n",
    "C.plot(vmin=-3.5,vmax=3.5,cmap='RdBu_r')\n",
    "plt.title('c) Unobscured Low Cloud Feedback')\n",
    "plt.subplot(2,3,5)\n",
    "D = A-C\n",
    "D.plot(vmin=-3.5,vmax=3.5,cmap='RdBu_r')\n",
    "plt.title('d) a - c (should equal b)')"
   ]
  },
  {
   "cell_type": "code",
   "execution_count": null,
   "id": "c1ca1312-23f4-48c0-955b-1ea43741428b",
   "metadata": {
    "tags": []
   },
   "outputs": [],
   "source": [
    "# Verify that the obscuration-adjusted high cloud amount feedback = original high cloud amount feedback + change in obscuration:\n",
    "plt.figure(figsize=(18,9))\n",
    "plt.subplot(2,3,1)\n",
    "A = HI['NETcld_amt'].mean('time')\n",
    "A.plot(vmin=-3.5,vmax=3.5,cmap='RdBu_r')\n",
    "plt.title('a) Original High Cloud Amount')\n",
    "plt.subplot(2,3,2)\n",
    "B = (LOobsc['LWdobsc_fbk']+LOobsc['SWdobsc_fbk']).mean('time')\n",
    "B.plot(vmin=-3.5,vmax=3.5,cmap='RdBu_r')\n",
    "plt.title('b) Change in Obscuration')\n",
    "plt.subplot(2,3,3)\n",
    "C = trueHI['NETcld_amt'].mean('time')\n",
    "C.plot(vmin=-3.5,vmax=3.5,cmap='RdBu_r')\n",
    "plt.title('c) Obscuration-Adjusted High Cloud Amount')\n",
    "plt.subplot(2,3,6)\n",
    "D = A+B\n",
    "D.plot(vmin=-3.5,vmax=3.5,cmap='RdBu_r')\n",
    "plt.title('d) a+b (should equal c)')"
   ]
  },
  {
   "cell_type": "code",
   "execution_count": null,
   "id": "8b7ccb7c-eae1-4c7e-b2a3-33bfd0cc1ebd",
   "metadata": {
    "tags": []
   },
   "outputs": [],
   "source": [
    "# Compare original and obscuration-adjusted high cloud feedbacks:\n",
    "fig = plt.figure(figsize = (12,15))\n",
    "plt.suptitle(model+'.'+variant+' High Cloud Feedbacks',fontsize=16,x=0,ha='left')\n",
    "axes = fig.subplots(nrows=5, ncols=2, subplot_kw={'projection': ccrs.Robinson(central_longitude=180)})\n",
    "fields = list(DS.data_vars)\n",
    "for col,DS in enumerate([HI,trueHI]):\n",
    "    avgmap = DS.mean('time')\n",
    "    avgmap=avgmap.bounds.add_missing_bounds()\n",
    "    row=-1\n",
    "    for var in fields:\n",
    "        if 'NET' not in var:\n",
    "            continue\n",
    "        row+=1\n",
    "        avg = avgmap.spatial.average(var, axis=[\"X\", \"Y\"])[var].values\n",
    "        pl = avgmap[var].plot(ax = axes[row,col], \n",
    "                  transform=ccrs.PlateCarree(),\n",
    "                  vmin = -5, vmax =  5, \n",
    "                  cmap = 'RdBu_r', \n",
    "                  extend='both',                              \n",
    "                  add_colorbar=False)\n",
    "        if row==0:\n",
    "            if col==0:\n",
    "                axes[row,col].set_title('Original\\n'+var+\" (\" + str(np.round(avg,3)) + \")\")\n",
    "            else:\n",
    "                axes[row,col].set_title('Obscuration-Adjusted\\n'+var+\" (\" + str(np.round(avg,3)) + \")\")\n",
    "        else:\n",
    "            axes[row,col].set_title('{} ({:.3f})'.format(var,avg))\n",
    "        axes[row,col].coastlines()\n",
    "plt.tight_layout(w_pad=2.5,h_pad=-1)        \n",
    "fig.colorbar(pl, ax=axes.ravel().tolist(), pad = 0.02, shrink = 0.5, aspect = 15, label=\"W/m$^2/K$\")"
   ]
  },
  {
   "cell_type": "code",
   "execution_count": null,
   "id": "68b20aff",
   "metadata": {
    "tags": []
   },
   "outputs": [],
   "source": [
    "# Compare original and unobscured low cloud feedbacks:\n",
    "fig = plt.figure(figsize = (12,15))\n",
    "plt.suptitle(model+'.'+variant+' Low Cloud Feedbacks',fontsize=16,x=0,ha='left')\n",
    "axes = fig.subplots(nrows=5, ncols=2, subplot_kw={'projection': ccrs.Robinson(central_longitude=180)})\n",
    "fields = list(DS.data_vars)\n",
    "for col,DS in enumerate([LO,trueLO]):\n",
    "    avgmap = DS.mean('time')\n",
    "    avgmap=avgmap.bounds.add_missing_bounds()\n",
    "    row=-1\n",
    "    for var in fields:\n",
    "        if 'NET' not in var:\n",
    "            continue\n",
    "        row+=1\n",
    "        avg = avgmap.spatial.average(var, axis=[\"X\", \"Y\"])[var].values\n",
    "        pl = avgmap[var].plot(ax = axes[row,col], \n",
    "                  transform=ccrs.PlateCarree(),\n",
    "                  vmin = -5, vmax =  5, \n",
    "                  cmap = 'RdBu_r', \n",
    "                  extend='both',                              \n",
    "                  add_colorbar=False)\n",
    "        if row==0:\n",
    "            if col==0:\n",
    "                axes[row,col].set_title('Original\\n'+var+\" (\" + str(np.round(avg,3)) + \")\")\n",
    "            else:\n",
    "                axes[row,col].set_title('Unobscured\\n'+var+\" (\" + str(np.round(avg,3)) + \")\")\n",
    "        else:\n",
    "            axes[row,col].set_title('{} ({:.3f})'.format(var,avg))\n",
    "        axes[row,col].coastlines()\n",
    "plt.tight_layout(w_pad=2.5,h_pad=-1)        \n",
    "fig.colorbar(pl, ax=axes.ravel().tolist(), pad = 0.02, shrink = 0.5, aspect = 15, label=\"W/m$^2/K$\")"
   ]
  },
  {
   "cell_type": "code",
   "execution_count": null,
   "id": "4504df41-4938-4dcd-9d42-68f5441b13c5",
   "metadata": {
    "tags": []
   },
   "outputs": [],
   "source": [
    "# Verify that the sum of total \"original\" feedbacks are equivalent to the sum of total \"obscuration-adjusted\" feedbacks, \n",
    "# and that these are both equivalent to the original total feedback considering all cloud types (i.e., not doing the low vs non-low decomposition)\n",
    "plt.figure(figsize=(18,9))\n",
    "ax = plt.subplot(3,3,1)\n",
    "A = HI['NETcld_tot'].mean('time')\n",
    "A.plot(vmin=-3.5,vmax=3.5,cmap='RdBu_r')\n",
    "plt.title('a) Original High')\n",
    "ax.set_xticklabels([])\n",
    "ax.set_xlabel('')\n",
    "ax = plt.subplot(3,3,4)\n",
    "B = LO['NETcld_tot'].mean('time')\n",
    "B.plot(vmin=-3.5,vmax=3.5,cmap='RdBu_r')\n",
    "plt.title('b) Original Low')\n",
    "ax.set_xticklabels([])\n",
    "ax.set_xlabel('')\n",
    "ax = plt.subplot(3,3,7)\n",
    "C = A+B\n",
    "C.plot(vmin=-3.5,vmax=3.5,cmap='RdBu_r')\n",
    "plt.title('c) a+b')\n",
    "\n",
    "ax = plt.subplot(3,3,3)\n",
    "G = trueHI['NETcld_tot'].mean('time')\n",
    "G.plot(vmin=-3.5,vmax=3.5,cmap='RdBu_r')\n",
    "plt.title('g) Obscuration-Adjusted High')\n",
    "ax.set_xticklabels([])\n",
    "ax.set_xlabel('')\n",
    "ax = plt.subplot(3,3,6)\n",
    "H = trueLO['NETcld_tot'].mean('time')\n",
    "H.plot(vmin=-3.5,vmax=3.5,cmap='RdBu_r')\n",
    "plt.title('h) Obscuration-Adjusted Low')\n",
    "ax.set_xticklabels([])\n",
    "ax.set_xlabel('')\n",
    "ax = plt.subplot(3,3,9)\n",
    "I = A+B\n",
    "I.plot(vmin=-3.5,vmax=3.5,cmap='RdBu_r')\n",
    "plt.title('i) g+h')\n",
    "\n",
    "# truth:\n",
    "ax = plt.subplot(3,3,2)\n",
    "D = ALL['NETcld_tot'].mean('time')\n",
    "D.plot(vmin=-3.5,vmax=3.5,cmap='RdBu_r')\n",
    "plt.title('d) Total')\n",
    "ax.set_xticklabels([])\n",
    "ax.set_xlabel('')\n",
    "ax = plt.subplot(3,3,5)\n",
    "E = C-D\n",
    "E.plot(vmin=-3.5,vmax=3.5,cmap='RdBu_r')\n",
    "plt.title('e) c-d (should be zero)')\n",
    "ax.set_xticklabels([])\n",
    "ax.set_xlabel('')\n",
    "ax = plt.subplot(3,3,8)\n",
    "F = I-D\n",
    "F.plot(vmin=-3.5,vmax=3.5,cmap='RdBu_r')\n",
    "plt.title('f) i-d (should be zero)')"
   ]
  }
 ],
 "metadata": {
  "kernelspec": {
   "display_name": "Python 3 (ipykernel)",
   "language": "python",
   "name": "python3"
  },
  "language_info": {
   "codemirror_mode": {
    "name": "ipython",
    "version": 3
   },
   "file_extension": ".py",
   "mimetype": "text/x-python",
   "name": "python",
   "nbconvert_exporter": "python",
   "pygments_lexer": "ipython3",
   "version": "3.10.13"
  }
 },
 "nbformat": 4,
 "nbformat_minor": 5
}
